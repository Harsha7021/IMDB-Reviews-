{
  "cells": [
    {
      "cell_type": "markdown",
      "metadata": {
        "id": "view-in-github",
        "colab_type": "text"
      },
      "source": [
        "<a href=\"https://colab.research.google.com/github/Harsha7021/IMDB-Reviews-/blob/main/AppliedNLP.ipynb\" target=\"_parent\"><img src=\"https://colab.research.google.com/assets/colab-badge.svg\" alt=\"Open In Colab\"/></a>"
      ]
    },
    {
      "cell_type": "markdown",
      "metadata": {
        "id": "f2S8I2ny-ovS"
      },
      "source": [
        "**Sentiment Classification**\n",
        "\n",
        "\n",
        "\n",
        "\n",
        "\n",
        "In this project, I will be investigating NLP methods for distinguishing positive and negative reviews written about movies.\n"
      ]
    },
    {
      "cell_type": "code",
      "source": [
        "from google.colab import drive\n",
        "drive.mount('/content/drive')"
      ],
      "metadata": {
        "colab": {
          "base_uri": "https://localhost:8080/"
        },
        "id": "Fyow08X2EyMb",
        "outputId": "481c6780-ce0c-486d-acaa-3aed1ab78dd9"
      },
      "execution_count": null,
      "outputs": [
        {
          "output_type": "stream",
          "name": "stdout",
          "text": [
            "Drive already mounted at /content/drive; to attempt to forcibly remount, call drive.mount(\"/content/drive\", force_remount=True).\n"
          ]
        }
      ]
    },
    {
      "cell_type": "code",
      "execution_count": null,
      "metadata": {
        "id": "nk8JTP88A8vs",
        "colab": {
          "base_uri": "https://localhost:8080/"
        },
        "outputId": "4378111d-bd5a-434f-8975-b7b060038089"
      },
      "outputs": [
        {
          "output_type": "stream",
          "name": "stderr",
          "text": [
            "[nltk_data] Downloading package punkt to /root/nltk_data...\n",
            "[nltk_data]   Unzipping tokenizers/punkt.zip.\n",
            "[nltk_data] Downloading package stopwords to /root/nltk_data...\n",
            "[nltk_data]   Unzipping corpora/stopwords.zip.\n",
            "[nltk_data] Downloading package movie_reviews to /root/nltk_data...\n",
            "[nltk_data]   Unzipping corpora/movie_reviews.zip.\n"
          ]
        }
      ],
      "source": [
        "\n",
        "#set up nltk\n",
        "import nltk\n",
        "nltk.download('punkt')\n",
        "nltk.download('stopwords')\n",
        "nltk.download('movie_reviews')\n",
        "from nltk.corpus import stopwords\n",
        "from nltk.tokenize import word_tokenize\n",
        "from nltk.corpus import movie_reviews\n",
        "\n",
        "#for setting up training and testing data\n",
        "import random\n",
        "\n",
        "#useful other tools\n",
        "import re\n",
        "import pandas as pd\n",
        "import matplotlib.pyplot as plt\n",
        "%matplotlib inline\n",
        "from itertools import zip_longest\n",
        "from nltk.probability import FreqDist\n",
        "from nltk.classify.api import ClassifierI\n"
      ]
    },
    {
      "cell_type": "code",
      "execution_count": null,
      "metadata": {
        "id": "BHBkzAccCVaZ"
      },
      "outputs": [],
      "source": [
        "def split_data(data, ratio=0.7): # when the second argument is not given, it defaults to 0.7\n",
        "    \"\"\"\n",
        "    Given corpus generator and ratio:\n",
        "     - partitions the corpus into training data and test data, where the proportion in train is ratio,\n",
        "\n",
        "    :param data: A corpus generator.\n",
        "    :param ratio: The proportion of training documents (default 0.7)\n",
        "    :return: a pair (tuple) of lists where the first element of the\n",
        "            pair is a list of the training data and the second is a list of the test data.\n",
        "    \"\"\"\n",
        "\n",
        "    data = list(data)\n",
        "    n = len(data)\n",
        "    train_indices = random.sample(range(n), int(n * ratio))\n",
        "    test_indices = list(set(range(n)) - set(train_indices))\n",
        "    train = [data[i] for i in train_indices]\n",
        "    test = [data[i] for i in test_indices]\n",
        "    return (train, test)\n",
        "\n",
        "\n",
        "def get_train_test_data():\n",
        "\n",
        "    #get ids of positive and negative movie reviews\n",
        "    pos_review_ids=movie_reviews.fileids('pos')\n",
        "    neg_review_ids=movie_reviews.fileids('neg')\n",
        "\n",
        "    #split positive and negative data into training and testing sets\n",
        "    pos_train_ids, pos_test_ids = split_data(pos_review_ids)\n",
        "    neg_train_ids, neg_test_ids = split_data(neg_review_ids)\n",
        "    #add labels to the data and concatenate\n",
        "    training = [(movie_reviews.words(f),'pos') for f in pos_train_ids]+[(movie_reviews.words(f),'neg') for f in neg_train_ids]\n",
        "    testing = [(movie_reviews.words(f),'pos') for f in pos_test_ids]+[(movie_reviews.words(f),'neg') for f in neg_test_ids]\n",
        "\n",
        "    return training, testing"
      ]
    },
    {
      "cell_type": "markdown",
      "metadata": {
        "id": "1N3LWwBYICPP"
      },
      "source": [
        "Training and testing samples to be stored in `training_data` and `testing_data`"
      ]
    },
    {
      "cell_type": "code",
      "execution_count": null,
      "metadata": {
        "id": "HJLegkdPFUJA",
        "colab": {
          "base_uri": "https://localhost:8080/"
        },
        "outputId": "defc0b9f-68f4-43de-bd4e-387654c35d96"
      },
      "outputs": [
        {
          "output_type": "stream",
          "name": "stdout",
          "text": [
            "The amount of training data is 1400\n",
            "The amount of testing data is 600\n",
            "The representation of a single data item is below\n",
            "(['getting', 'it', 'right', 'is', 'a', 'far', 'far', ...], 'pos')\n"
          ]
        }
      ],
      "source": [
        "random.seed(candidateno)\n",
        "training_data,testing_data=get_train_test_data()\n",
        "print(\"The amount of training data is {}\".format(len(training_data)))\n",
        "print(\"The amount of testing data is {}\".format(len(testing_data)))\n",
        "print(\"The representation of a single data item is below\")\n",
        "print(training_data[0])"
      ]
    },
    {
      "cell_type": "markdown",
      "metadata": {
        "id": "RbTq6eGv2XT2"
      },
      "source": [
        "Generating a list of 10 content words which are representative of the positive reviews in your training data.\n",
        "\n",
        "Generating a list of 10 content words which are representative of the negative reviews in your training data.\n"
      ]
    },
    {
      "cell_type": "code",
      "execution_count": null,
      "metadata": {
        "id": "JXHrtNCg2XT4",
        "colab": {
          "base_uri": "https://localhost:8080/"
        },
        "outputId": "cd4a4546-b511-4f6b-a6bb-6161c531cded"
      },
      "outputs": [
        {
          "output_type": "execute_result",
          "data": {
            "text/plain": [
              "(['it', 'happens', 'every', 'year', '--', 'the', 'days', ...], 'neg')"
            ]
          },
          "metadata": {},
          "execution_count": 186
        }
      ],
      "source": [
        "training_data[-1]\n"
      ]
    },
    {
      "cell_type": "code",
      "execution_count": null,
      "metadata": {
        "id": "gvFu36xZ2XT5"
      },
      "outputs": [],
      "source": [
        "stop_words = stopwords.words(\"english\")\n",
        "def normalise(wordlist):\n",
        "  lower=[word.lower() for word in wordlist]\n",
        "  filter=[word for word in lower if word.isalpha() and word not in stop_words]\n",
        "  return filter\n",
        "\n",
        "\n",
        "norm_train_data = [(FreqDist(normalise(wordlist)),label) for (wordlist,label) in training_data]\n",
        "norm_test_data=[(FreqDist(normalise(wordlist)),label) for (wordlist,label) in testing_data]"
      ]
    },
    {
      "cell_type": "code",
      "source": [
        "norm_train_data[0:6]"
      ],
      "metadata": {
        "colab": {
          "base_uri": "https://localhost:8080/"
        },
        "id": "N6sTAcYWJJ8t",
        "outputId": "1bb4136f-f83a-4405-b6e1-c7662fe9481f"
      },
      "execution_count": null,
      "outputs": [
        {
          "output_type": "execute_result",
          "data": {
            "text/plain": [
              "[(FreqDist({'gavin': 17, 'right': 11, 'getting': 8, 'film': 5, 'year': 5, 'old': 5, 'life': 5, 'movie': 4, 'kleiser': 3, 'redgrave': 3, ...}),\n",
              "  'pos'),\n",
              " (FreqDist({'marie': 14, 'jean': 14, 'vincent': 4, 'rampling': 3, 'day': 3, 'returns': 3, 'sand': 3, 'one': 3, 'character': 3, 'loss': 3, ...}),\n",
              "  'pos'),\n",
              " (FreqDist({'film': 10, 'benigni': 8, 'great': 7, 'guido': 7, 'one': 6, 'people': 4, 'best': 4, 'perhaps': 4, 'society': 3, 'must': 3, ...}),\n",
              "  'pos'),\n",
              " (FreqDist({'film': 8, 'also': 8, 'one': 7, 'dillon': 5, 'really': 5, 'farrelly': 4, 'found': 4, 'funny': 4, 'scenes': 4, 'like': 4, ...}),\n",
              "  'pos'),\n",
              " (FreqDist({'town': 8, 'one': 8, 'story': 7, 'mitchell': 7, 'book': 5, 'egoyan': 5, 'bus': 4, 'children': 4, 'never': 4, 'billy': 4, ...}),\n",
              "  'pos'),\n",
              " (FreqDist({'apt': 8, 'pupil': 8, 'todd': 8, 'film': 7, 'bowden': 7, 'dussander': 7, 'one': 5, 'singer': 4, 'renfro': 4, 'suspects': 4, ...}),\n",
              "  'pos')]"
            ]
          },
          "metadata": {},
          "execution_count": 106
        }
      ]
    },
    {
      "cell_type": "code",
      "source": [
        "norm_train_data[0:4]"
      ],
      "metadata": {
        "colab": {
          "base_uri": "https://localhost:8080/"
        },
        "id": "eDg1zRP8pAIT",
        "outputId": "7045c811-ccc3-4beb-c026-dfe0fd222d1b"
      },
      "execution_count": null,
      "outputs": [
        {
          "output_type": "execute_result",
          "data": {
            "text/plain": [
              "[(FreqDist({'gavin': 17, 'right': 11, 'getting': 8, 'film': 5, 'year': 5, 'old': 5, 'life': 5, 'movie': 4, 'kleiser': 3, 'redgrave': 3, ...}),\n",
              "  'pos'),\n",
              " (FreqDist({'marie': 14, 'jean': 14, 'vincent': 4, 'rampling': 3, 'day': 3, 'returns': 3, 'sand': 3, 'one': 3, 'character': 3, 'loss': 3, ...}),\n",
              "  'pos'),\n",
              " (FreqDist({'film': 10, 'benigni': 8, 'great': 7, 'guido': 7, 'one': 6, 'people': 4, 'best': 4, 'perhaps': 4, 'society': 3, 'must': 3, ...}),\n",
              "  'pos'),\n",
              " (FreqDist({'film': 8, 'also': 8, 'one': 7, 'dillon': 5, 'really': 5, 'farrelly': 4, 'found': 4, 'funny': 4, 'scenes': 4, 'like': 4, ...}),\n",
              "  'pos')]"
            ]
          },
          "metadata": {},
          "execution_count": 107
        }
      ]
    },
    {
      "cell_type": "code",
      "source": [
        "freq_dist_pos=FreqDist()\n",
        "freq_dist_neg=FreqDist()\n",
        "\n",
        "#frequency distribution into positives and negatives.\n",
        "\n",
        "for reviewDist,label in norm_train_data:\n",
        "    if label=='pos':\n",
        "        freq_dist_pos+=reviewDist\n",
        "    else:\n",
        "        freq_dist_neg+=reviewDist"
      ],
      "metadata": {
        "id": "SO1iccoJJJ1X"
      },
      "execution_count": null,
      "outputs": []
    },
    {
      "cell_type": "code",
      "source": [
        "freq_dist_neg"
      ],
      "metadata": {
        "colab": {
          "base_uri": "https://localhost:8080/"
        },
        "id": "b2Nh-tbBJJrr",
        "outputId": "c0227e95-cc52-407a-c395-4c9c74c8d726"
      },
      "execution_count": null,
      "outputs": [
        {
          "output_type": "execute_result",
          "data": {
            "text/plain": [
              "FreqDist({'film': 3039, 'movie': 2332, 'one': 2034, 'like': 1356, 'even': 972, 'time': 845, 'good': 805, 'get': 762, 'would': 761, 'bad': 723, ...})"
            ]
          },
          "metadata": {},
          "execution_count": 109
        }
      ]
    },
    {
      "cell_type": "code",
      "source": [
        "freq_dist_pos"
      ],
      "metadata": {
        "colab": {
          "base_uri": "https://localhost:8080/"
        },
        "id": "CTCCTIFtLKzP",
        "outputId": "634361d3-3bf9-475e-971a-7086c24f4b09"
      },
      "execution_count": null,
      "outputs": [
        {
          "output_type": "execute_result",
          "data": {
            "text/plain": [
              "FreqDist({'film': 3725, 'one': 2187, 'movie': 1784, 'like': 1283, 'good': 894, 'time': 891, 'story': 882, 'also': 861, 'even': 834, 'well': 815, ...})"
            ]
          },
          "metadata": {},
          "execution_count": 110
        }
      ]
    },
    {
      "cell_type": "code",
      "source": [
        "def frequent_words(freqdist1, freqdist2,i):\n",
        "  diff = freqdist1-freqdist2\n",
        "  sortdiff = diff.most_common()\n",
        "  top_words = [word for (word,freq) in sortdiff[:i]]\n",
        "  return top_words"
      ],
      "metadata": {
        "id": "_lfX9OeaO0G6"
      },
      "execution_count": null,
      "outputs": []
    },
    {
      "cell_type": "code",
      "source": [
        "freq_words_pos = frequent_words(freq_dist_pos,freq_dist_neg,10)\n",
        "freq_words_pos"
      ],
      "metadata": {
        "colab": {
          "base_uri": "https://localhost:8080/"
        },
        "id": "A79tw8ilOz_L",
        "outputId": "43378c0c-cd3f-4560-dc9e-99e560a4769d"
      },
      "execution_count": null,
      "outputs": [
        {
          "output_type": "execute_result",
          "data": {
            "text/plain": [
              "['film',\n",
              " 'life',\n",
              " 'also',\n",
              " 'best',\n",
              " 'world',\n",
              " 'great',\n",
              " 'well',\n",
              " 'story',\n",
              " 'many',\n",
              " 'family']"
            ]
          },
          "metadata": {},
          "execution_count": 112
        }
      ]
    },
    {
      "cell_type": "code",
      "source": [
        "freq_words_pos = frequent_words(freq_dist_pos,freq_dist_neg,20)\n",
        "freq_words_pos"
      ],
      "metadata": {
        "colab": {
          "base_uri": "https://localhost:8080/"
        },
        "id": "fyr9EH98ppEb",
        "outputId": "c04b70a9-e140-4758-abe2-5b2521daba07"
      },
      "execution_count": null,
      "outputs": [
        {
          "output_type": "execute_result",
          "data": {
            "text/plain": [
              "['film',\n",
              " 'life',\n",
              " 'also',\n",
              " 'best',\n",
              " 'world',\n",
              " 'great',\n",
              " 'well',\n",
              " 'story',\n",
              " 'many',\n",
              " 'family',\n",
              " 'films',\n",
              " 'one',\n",
              " 'american',\n",
              " 'jackie',\n",
              " 'however',\n",
              " 'way',\n",
              " 'see',\n",
              " 'disney',\n",
              " 'performance',\n",
              " 'love']"
            ]
          },
          "metadata": {},
          "execution_count": 113
        }
      ]
    },
    {
      "cell_type": "code",
      "execution_count": null,
      "metadata": {
        "id": "RgePc9hV2XT_",
        "colab": {
          "base_uri": "https://localhost:8080/"
        },
        "outputId": "31a4a504-24b7-4c05-96f4-b61a1c65039a"
      },
      "outputs": [
        {
          "output_type": "execute_result",
          "data": {
            "text/plain": [
              "['movie',\n",
              " 'bad',\n",
              " 'plot',\n",
              " 'worst',\n",
              " 'even',\n",
              " 'nothing',\n",
              " 'get',\n",
              " 'script',\n",
              " 'boring',\n",
              " 'least']"
            ]
          },
          "metadata": {},
          "execution_count": 188
        }
      ],
      "source": [
        "freq_words_neg = frequent_words(freq_dist_neg,freq_dist_pos,10)\n",
        "freq_words_neg"
      ]
    },
    {
      "cell_type": "code",
      "source": [
        "freq_words_neg = frequent_words(freq_dist_neg,freq_dist_pos,50)\n",
        "freq_words_neg"
      ],
      "metadata": {
        "colab": {
          "base_uri": "https://localhost:8080/"
        },
        "id": "0jWLgdcwpuja",
        "outputId": "a5757f1c-9c5a-4e96-ede4-b1f965b8928b"
      },
      "execution_count": null,
      "outputs": [
        {
          "output_type": "execute_result",
          "data": {
            "text/plain": [
              "['movie',\n",
              " 'bad',\n",
              " 'plot',\n",
              " 'worst',\n",
              " 'even',\n",
              " 'nothing',\n",
              " 'get',\n",
              " 'script',\n",
              " 'boring',\n",
              " 'least',\n",
              " 'better',\n",
              " 'supposed',\n",
              " 'minutes',\n",
              " 'batman',\n",
              " 'stupid',\n",
              " 'big',\n",
              " 'guy',\n",
              " 'godzilla',\n",
              " 'looks',\n",
              " 'action',\n",
              " 'harry',\n",
              " 'reason',\n",
              " 'tv',\n",
              " 'could',\n",
              " 'unfortunately',\n",
              " 'waste',\n",
              " 'thing',\n",
              " 'like',\n",
              " 'mess',\n",
              " 'ridiculous',\n",
              " 'maybe',\n",
              " 'west',\n",
              " 'terrible',\n",
              " 'worse',\n",
              " 'wasted',\n",
              " 'give',\n",
              " 'given',\n",
              " 'poor',\n",
              " 'arnold',\n",
              " 'awful',\n",
              " 'lame',\n",
              " 'enough',\n",
              " 'dull',\n",
              " 'problem',\n",
              " 'minute',\n",
              " 'fails',\n",
              " 'nbsp',\n",
              " 'guess',\n",
              " 'got',\n",
              " 'anything']"
            ]
          },
          "metadata": {},
          "execution_count": 115
        }
      ]
    },
    {
      "cell_type": "markdown",
      "source": [
        "**BRIEFING**\n",
        "\n",
        "From the input, evaluation of training data and testing data sets has been done. In order to get rid of unecesary data/noise, normalise funtion is used to remove all stop words and convert all words to lower case.\n",
        "From the normalised data, positive and negative frequency distributions and determined. Through this the most used/frequent words are discovered.\n",
        "In the subsequent step, distinct positive and negative frequency distributions were derived from the normalized data and stored in pos_freq_dist and neg_freq_dist, respectively.\n",
        "\n",
        "Moving forward, the function most_frequent_words undertakes the following tasks:\n",
        "It computes the difference between the two input frequency distributions.\n",
        "The resulting sorted difference is stored in sorteddiff, presenting words and their frequencies in descending order from most common to least common.\n",
        "topk_words is a list containing the top k words that are most frequent in the distribution.\n",
        "\n",
        "By altering the order of parameters in the function, we can discern either positive or negative words. This distinction impacts the results, offering insights into the most frequent positive or negative words based on the chosen parameter order."
      ],
      "metadata": {
        "id": "iDEEU9gTUZwk"
      }
    },
    {
      "cell_type": "markdown",
      "source": [
        "\n",
        "\n",
        "---\n",
        "\n",
        "\n",
        "\n",
        "---\n",
        "\n"
      ],
      "metadata": {
        "id": "SGMJ81pwMriy"
      }
    },
    {
      "cell_type": "markdown",
      "metadata": {
        "id": "TApOQE6vND20"
      },
      "source": [
        "Using the lists generated from above to build a **word list classifier** which will classify reviews as being positive or negative.\n",
        "\n"
      ]
    },
    {
      "cell_type": "code",
      "source": [
        "freq_words_neg\n",
        "#negative review words"
      ],
      "metadata": {
        "colab": {
          "base_uri": "https://localhost:8080/"
        },
        "id": "fKVNV4NBUz2P",
        "outputId": "38ec556d-382a-4fd5-f104-6088d14143d9"
      },
      "execution_count": null,
      "outputs": [
        {
          "output_type": "execute_result",
          "data": {
            "text/plain": [
              "['movie',\n",
              " 'bad',\n",
              " 'plot',\n",
              " 'worst',\n",
              " 'even',\n",
              " 'nothing',\n",
              " 'get',\n",
              " 'script',\n",
              " 'boring',\n",
              " 'least']"
            ]
          },
          "metadata": {},
          "execution_count": 189
        }
      ]
    },
    {
      "cell_type": "code",
      "source": [
        "from nltk.classify.api import ClassifierI\n",
        "import random\n",
        "\n",
        "class Classifier(ClassifierI):\n",
        "\n",
        "    def __init__(self, pos, neg):\n",
        "        self._pos = pos\n",
        "        self._neg = neg\n",
        "\n",
        "    def classify(self, doc):\n",
        "        score = 0\n",
        "\n",
        "        for w,v in doc.items():                                   # w is word & v is value\n",
        "            if w in self._pos:\n",
        "                score+=v\n",
        "            if w in self._neg:\n",
        "                score-=v\n",
        "\n",
        "        return \"neg\" if score < 0 else \"pos\"\n",
        "\n",
        "\n",
        "    def tag(self):\n",
        "        return (\"pos\", \"neg\")\n",
        "\n",
        "\n",
        "\n",
        "class SimpleClassifier_(Classifier):\n",
        "\n",
        "    def __init__(self,k):\n",
        "        self._k=k\n",
        "\n",
        "    def train(self,training_data):\n",
        "\n",
        "        freq_dist_pos=FreqDist()\n",
        "        freq_dist_neg=FreqDist()\n",
        "\n",
        "        for reviewDist,tag in training_data:\n",
        "            if tag=='pos':\n",
        "                freq_dist_pos+=reviewDist\n",
        "            else:\n",
        "                freq_dist_neg+=reviewDist\n",
        "\n",
        "        self._pos=frequent_words(freq_dist_pos,freq_dist_neg,self._k)\n",
        "        self._neg=frequent_words(freq_dist_neg,freq_dist_pos,self._k)"
      ],
      "metadata": {
        "id": "jJ0v8oSqUzv0"
      },
      "execution_count": null,
      "outputs": []
    },
    {
      "cell_type": "code",
      "source": [
        "reviews_classifier = SimpleClassifier_mf(30)\n",
        "reviews_classifier.train(norm_train_data)"
      ],
      "metadata": {
        "id": "HSHRZPSLUzj-"
      },
      "execution_count": null,
      "outputs": []
    },
    {
      "cell_type": "code",
      "source": [
        "reviews_classifier.classify(FreqDist(\"The screenplay of the movie was bad \".split()))"
      ],
      "metadata": {
        "colab": {
          "base_uri": "https://localhost:8080/",
          "height": 36
        },
        "id": "umF_cfCZUzb_",
        "outputId": "fb18eb90-8c40-4317-b977-6977f9152930"
      },
      "execution_count": null,
      "outputs": [
        {
          "output_type": "execute_result",
          "data": {
            "text/plain": [
              "'neg'"
            ],
            "application/vnd.google.colaboratory.intrinsic+json": {
              "type": "string"
            }
          },
          "metadata": {},
          "execution_count": 192
        }
      ]
    },
    {
      "cell_type": "code",
      "source": [
        "reviews_classifier.classify(FreqDist(\"This movie is not recommended to watch\".split()))"
      ],
      "metadata": {
        "colab": {
          "base_uri": "https://localhost:8080/",
          "height": 36
        },
        "id": "WWNTDuQIZSAC",
        "outputId": "071f3048-1b8f-46ca-c416-4c24c18515eb"
      },
      "execution_count": null,
      "outputs": [
        {
          "output_type": "execute_result",
          "data": {
            "text/plain": [
              "'neg'"
            ],
            "application/vnd.google.colaboratory.intrinsic+json": {
              "type": "string"
            }
          },
          "metadata": {},
          "execution_count": 193
        }
      ]
    },
    {
      "cell_type": "code",
      "source": [
        "reviews_classifier.classify(FreqDist(\"This movie should have been better\".split()))"
      ],
      "metadata": {
        "colab": {
          "base_uri": "https://localhost:8080/",
          "height": 36
        },
        "id": "NhGF7MlRuBOE",
        "outputId": "3de4b3e0-0749-44f8-8bc7-9623e92d6775"
      },
      "execution_count": null,
      "outputs": [
        {
          "output_type": "execute_result",
          "data": {
            "text/plain": [
              "'neg'"
            ],
            "application/vnd.google.colaboratory.intrinsic+json": {
              "type": "string"
            }
          },
          "metadata": {},
          "execution_count": 194
        }
      ]
    },
    {
      "cell_type": "code",
      "source": [
        "reviews_classifier.classify(FreqDist(\"My friend told me the movie is good\".split()))"
      ],
      "metadata": {
        "colab": {
          "base_uri": "https://localhost:8080/",
          "height": 36
        },
        "id": "Plnkk-Q-uVMy",
        "outputId": "d886af2e-dc37-4984-fe88-a6cee0f13da9"
      },
      "execution_count": null,
      "outputs": [
        {
          "output_type": "execute_result",
          "data": {
            "text/plain": [
              "'neg'"
            ],
            "application/vnd.google.colaboratory.intrinsic+json": {
              "type": "string"
            }
          },
          "metadata": {},
          "execution_count": 195
        }
      ]
    },
    {
      "cell_type": "code",
      "source": [
        "reviews_classifier = SimpleClassifier_mf(5)\n",
        "reviews_classifier.train(norm_test_data)"
      ],
      "metadata": {
        "id": "-P6mMuMpZR5D"
      },
      "execution_count": null,
      "outputs": []
    },
    {
      "cell_type": "code",
      "execution_count": null,
      "metadata": {
        "id": "BThDMrcmODJy",
        "colab": {
          "base_uri": "https://localhost:8080/",
          "height": 36
        },
        "outputId": "789aae24-3024-4314-d0d6-6a4e8e015742"
      },
      "outputs": [
        {
          "output_type": "execute_result",
          "data": {
            "text/plain": [
              "'neg'"
            ],
            "application/vnd.google.colaboratory.intrinsic+json": {
              "type": "string"
            }
          },
          "metadata": {},
          "execution_count": 196
        }
      ],
      "source": [
        "reviews_classifier.classify(FreqDist(\"The screenplay of the movie was bad\".split()))"
      ]
    },
    {
      "cell_type": "markdown",
      "metadata": {
        "id": "C6vK5Vyz2XUF"
      },
      "source": [
        "**BRIEFING**\n",
        "\n",
        "In order to define the class Classifier and SimpleClassifier, module classifier has been used from NLTK.\n",
        "\n",
        "__init__: Initializes two variables, pos and neg, within the class.\n",
        "\n",
        "classify: Assigns a score to a document, determining whether it has an overall positive or negative review.\n",
        "\n",
        "labels: Returns \"pos\" or \"neg.\"\n",
        "\n",
        "The SimpleClassifier class calls Classifier and has two functions defined:\n",
        "__init__: Passes an integer value, k.\n",
        "\n",
        "train: Creates positive and negative frequency lists based on the labels they have. The function then returns the top k most common words that occur in the frequency distribution, based on the sorted positive and negative frequency distributions."
      ]
    },
    {
      "cell_type": "markdown",
      "source": [
        "\n",
        "\n",
        "---\n",
        "\n",
        "\n",
        "\n",
        "---\n",
        "\n"
      ],
      "metadata": {
        "id": "wNF7WrtRIBY5"
      }
    },
    {
      "cell_type": "markdown",
      "metadata": {
        "id": "YZdDO_Y92XUH"
      },
      "source": [
        "Calculating the accuracy, precision, recall and F1 score of your classifier.\n"
      ]
    },
    {
      "cell_type": "code",
      "execution_count": null,
      "metadata": {
        "id": "1LQc8bsA2XUI"
      },
      "outputs": [],
      "source": [
        "def class_evaluate(classifier, test_data):\n",
        "\n",
        "    initial = 0\n",
        "    docs,goldstandard=zip(*test_data)\n",
        "    predictions=classifier.classify_many(docs)\n",
        "\n",
        "    for prediction,goldlabel in zip(predictions,goldstandard):\n",
        "        if prediction==goldlabel:\n",
        "            initial+=1\n",
        "\n",
        "    return initial / (len(test_data))"
      ]
    },
    {
      "cell_type": "code",
      "execution_count": null,
      "metadata": {
        "id": "R_i80ceP2XUJ",
        "colab": {
          "base_uri": "https://localhost:8080/"
        },
        "outputId": "e2c13c31-243a-4bc6-ca02-04d3d58a9330"
      },
      "outputs": [
        {
          "output_type": "execute_result",
          "data": {
            "text/plain": [
              "(FreqDist({'film': 5, 'families': 4, 'first': 3, 'romeo': 3, 'juliet': 3, 'younger': 3, 'love': 3, 'another': 2, 'shakespeare': 2, 'wrong': 2, ...}),\n",
              " 'pos')"
            ]
          },
          "metadata": {},
          "execution_count": 164
        }
      ],
      "source": [
        "norm_test_data[0]"
      ]
    },
    {
      "cell_type": "code",
      "execution_count": null,
      "metadata": {
        "id": "VbYwwhcs2XUL",
        "colab": {
          "base_uri": "https://localhost:8080/"
        },
        "outputId": "73a39bd3-8e57-4e7f-dd47-7e9be95e813a"
      },
      "outputs": [
        {
          "output_type": "execute_result",
          "data": {
            "text/plain": [
              "0.6378571428571429"
            ]
          },
          "metadata": {},
          "execution_count": 165
        }
      ],
      "source": [
        "mark = class_evaluate(reviews_classifier,norm_train_data)\n",
        "mark"
      ]
    },
    {
      "cell_type": "code",
      "source": [
        "class ConfusionMatrix:\n",
        "    def __init__(self,predict,goldstandard,classes=(\"pos\",\"neg\")):\n",
        "\n",
        "        (self.c1,self.c2)=classes\n",
        "\n",
        "        self.pt=0\n",
        "        self.pf=0\n",
        "        self.nf=0\n",
        "        self.nt=0\n",
        "        for y,z in zip(predict,goldstandard):\n",
        "            if z==self.c1:\n",
        "                if y==self.c1:\n",
        "                    self.pt+=1\n",
        "                else:\n",
        "                    self.nf+=1\n",
        "\n",
        "            elif y==self.c1:\n",
        "                self.pf+=1\n",
        "            else:\n",
        "                self.nt+=1\n",
        "\n",
        "\n",
        "    def precision(self):\n",
        "        y=0\n",
        "\n",
        "        y = self.pt / (self.pt + self.pf)\n",
        "\n",
        "        return y\n",
        "\n",
        "    def recall(self):\n",
        "        r=0\n",
        "        r = self.pt / (self.pt + self.nf)\n",
        "        return r\n",
        "\n",
        "    def F1(self):\n",
        "        F1=0\n",
        "        y=self.precision()\n",
        "        r=self.recall()\n",
        "        F1=2*y*r/(y+r)\n",
        "        return F1"
      ],
      "metadata": {
        "id": "KuxAPosNfHFR"
      },
      "execution_count": null,
      "outputs": []
    },
    {
      "cell_type": "code",
      "source": [
        "docs,labels=zip(*norm_test_data)\n",
        "senti_cm=ConfusionMatrix(reviews_classifier.classify_many(docs),labels)\n",
        "print(senti_cm.pt)"
      ],
      "metadata": {
        "colab": {
          "base_uri": "https://localhost:8080/"
        },
        "id": "QI9lFJOAfG7R",
        "outputId": "140e0127-ef45-4cb1-e67f-c1008ed38a26"
      },
      "execution_count": null,
      "outputs": [
        {
          "output_type": "stream",
          "name": "stdout",
          "text": [
            "228\n"
          ]
        }
      ]
    },
    {
      "cell_type": "code",
      "source": [
        "print(senti_cm.pf)"
      ],
      "metadata": {
        "colab": {
          "base_uri": "https://localhost:8080/"
        },
        "id": "Yhy1eJXnxcOh",
        "outputId": "a9108ef8-252a-4fd5-94e9-81bdca4c1c7e"
      },
      "execution_count": null,
      "outputs": [
        {
          "output_type": "stream",
          "name": "stdout",
          "text": [
            "162\n"
          ]
        }
      ]
    },
    {
      "cell_type": "code",
      "source": [
        "print(senti_cm.nt)"
      ],
      "metadata": {
        "colab": {
          "base_uri": "https://localhost:8080/"
        },
        "id": "Sfo4dsRCxcGn",
        "outputId": "cffa68e1-e1ce-4652-8ddb-07d5454c25ef"
      },
      "execution_count": null,
      "outputs": [
        {
          "output_type": "stream",
          "name": "stdout",
          "text": [
            "138\n"
          ]
        }
      ]
    },
    {
      "cell_type": "code",
      "source": [
        "print(senti_cm.nf)"
      ],
      "metadata": {
        "colab": {
          "base_uri": "https://localhost:8080/"
        },
        "id": "8e2DpHtmxcBG",
        "outputId": "52f06d3b-93b1-4dc0-a1ed-ea550379a679"
      },
      "execution_count": null,
      "outputs": [
        {
          "output_type": "stream",
          "name": "stdout",
          "text": [
            "72\n"
          ]
        }
      ]
    },
    {
      "cell_type": "code",
      "source": [
        "accuracy = senti_cm.precision()\n",
        "accuracy"
      ],
      "metadata": {
        "colab": {
          "base_uri": "https://localhost:8080/"
        },
        "id": "W3v1eQ2efG3v",
        "outputId": "19cb1f44-985e-43f4-9de2-e99d972d688a"
      },
      "execution_count": null,
      "outputs": [
        {
          "output_type": "execute_result",
          "data": {
            "text/plain": [
              "0.5846153846153846"
            ]
          },
          "metadata": {},
          "execution_count": 134
        }
      ]
    },
    {
      "cell_type": "code",
      "source": [
        "recall = senti_cm.recall()\n",
        "recall"
      ],
      "metadata": {
        "colab": {
          "base_uri": "https://localhost:8080/"
        },
        "id": "_lAzy7OQfGzh",
        "outputId": "2eda55d4-2189-4dd1-fdc0-7a51f6a3e143"
      },
      "execution_count": null,
      "outputs": [
        {
          "output_type": "execute_result",
          "data": {
            "text/plain": [
              "0.76"
            ]
          },
          "metadata": {},
          "execution_count": 135
        }
      ]
    },
    {
      "cell_type": "code",
      "source": [
        "F1_score = senti_cm.F1()\n",
        "F1_score"
      ],
      "metadata": {
        "colab": {
          "base_uri": "https://localhost:8080/"
        },
        "id": "_clwTU7HfGvN",
        "outputId": "2fb7186d-d296-423b-99ea-e42876cbdc33"
      },
      "execution_count": null,
      "outputs": [
        {
          "output_type": "execute_result",
          "data": {
            "text/plain": [
              "0.6608695652173914"
            ]
          },
          "metadata": {},
          "execution_count": 136
        }
      ]
    },
    {
      "cell_type": "code",
      "source": [
        "import pandas as pd\n",
        "data = {\n",
        "    'Positive True': [senti_cm.pf],\n",
        "    'Negative True': [senti_cm.nt],\n",
        "    'Negative False': [senti_cm.nf],\n",
        "    'Accuracy': [senti_cm.precision()],\n",
        "    'Recall': [senti_cm.recall()],\n",
        "    'F1 Score': [senti_cm.F1()]\n",
        "}\n",
        "\n",
        "df = pd.DataFrame(data)\n",
        "print(df)"
      ],
      "metadata": {
        "colab": {
          "base_uri": "https://localhost:8080/"
        },
        "id": "G8zn4W_AKCvM",
        "outputId": "1940fb63-2e82-47ad-fbd9-0cde852c3e14"
      },
      "execution_count": null,
      "outputs": [
        {
          "output_type": "stream",
          "name": "stdout",
          "text": [
            "   Positive True  Negative True  Negative False  Accuracy  Recall  F1 Score\n",
            "0            162            138              72  0.584615    0.76   0.66087\n"
          ]
        }
      ]
    },
    {
      "cell_type": "code",
      "source": [
        "from tabulate import tabulate\n",
        "data = {\n",
        "    'Metric': ['Positive True', 'Negative True', 'Negative False', 'Accuracy', 'Recall', 'F1 Score'],\n",
        "    'Value': [senti_cm.pf, senti_cm.nt, senti_cm.nf, senti_cm.precision(), senti_cm.recall(), senti_cm.F1()]\n",
        "}\n",
        "df=pd.DataFrame(data)\n",
        "table = tabulate(df, headers='keys', tablefmt='pretty', showindex=False)\n",
        "print(table)\n"
      ],
      "metadata": {
        "colab": {
          "base_uri": "https://localhost:8080/"
        },
        "id": "-W9byiJdKi9K",
        "outputId": "754ad617-f86b-46c7-d031-0e26aede882c"
      },
      "execution_count": null,
      "outputs": [
        {
          "output_type": "stream",
          "name": "stdout",
          "text": [
            "+----------------+--------------------+\n",
            "|     Metric     |       Value        |\n",
            "+----------------+--------------------+\n",
            "| Positive True  |       162.0        |\n",
            "| Negative True  |       138.0        |\n",
            "| Negative False |        72.0        |\n",
            "|    Accuracy    | 0.5846153846153846 |\n",
            "|     Recall     |        0.76        |\n",
            "|    F1 Score    | 0.6608695652173914 |\n",
            "+----------------+--------------------+\n"
          ]
        }
      ]
    },
    {
      "cell_type": "code",
      "source": [
        "metrics = ['Accuracy', 'Recall', 'F1 Score']\n",
        "values = [ senti_cm.precision(), senti_cm.recall(), senti_cm.F1()]\n",
        "plt.bar(metrics, values, color=['red', 'purple', 'brown'])\n",
        "plt.xlabel('Metrics')\n",
        "plt.title('Analysis')\n",
        "plt.ylabel('Values')\n",
        "plt.show()"
      ],
      "metadata": {
        "colab": {
          "base_uri": "https://localhost:8080/",
          "height": 472
        },
        "id": "GFjEewA0LI4b",
        "outputId": "46f9a34b-1bfa-4c66-f974-83fb2a9b5b61"
      },
      "execution_count": null,
      "outputs": [
        {
          "output_type": "display_data",
          "data": {
            "text/plain": [
              "<Figure size 640x480 with 1 Axes>"
            ],
            "image/png": "[encoded data removed]"
          },
          "metadata": {}
        }
      ]
    },
    {
      "cell_type": "markdown",
      "metadata": {
        "id": "AVZp0N5J2XUL"
      },
      "source": [
        "**BRIEFING**\n",
        "\n",
        "To calculate accuracy, precision, recall, and F1 score, we would need a labeled dataset for testing.\n",
        "\n",
        "To Evaluate the performance of the classifier we need:\n",
        "Accuracy: (Number of correct predictions) / (Total number of predictions)\n",
        "\n",
        "Precision: (Number of true positives) / (Number of true positives + Number of false positives)\n",
        "\n",
        "Recall (Sensitivity): (Number of true positives) / (Number of true positives + Number of false negatives)\n",
        "\n",
        "F1 Score: 2 * (Precision * Recall) / (Precision + Recall)\n",
        "\n",
        "Conclusion: We can not attain the exact solution if we exclusively consider accuracy in this case."
      ]
    },
    {
      "cell_type": "markdown",
      "source": [
        "\n",
        "\n",
        "---\n",
        "\n",
        "\n",
        "\n",
        "---\n",
        "\n"
      ],
      "metadata": {
        "id": "wM2rPSrYILmq"
      }
    },
    {
      "cell_type": "markdown",
      "metadata": {
        "id": "LIS9UpmJNEAp"
      },
      "source": [
        "Constructing a Naive Bayes classifier (e.g., from NLTK).\n",
        "\n",
        "Comparing the performance of your word list classifier with the Naive Bayes classifier.  "
      ]
    },
    {
      "cell_type": "code",
      "execution_count": null,
      "metadata": {
        "id": "Gwjig-Y12XUN"
      },
      "outputs": [],
      "source": [
        "from nltk.classify.api import ClassifierI\n",
        "\n",
        "class NBClassifier(ClassifierI):\n",
        "\n",
        "    def __init__(self):\n",
        "\n",
        "        pass\n",
        "\n",
        "    def _set_known_vocabulary(self,training_data):\n",
        "        #add your code here\n",
        "        known=[]\n",
        "        for doc,label in training_data:\n",
        "            known+=list(doc.keys())\n",
        "        self.known= set(known)\n",
        "\n",
        "\n",
        "    def _set_priors(self,training_data):\n",
        "\n",
        "        priors={}\n",
        "        for (doc,label) in training_data:\n",
        "            priors[label]=priors.get(label,0)+1\n",
        "        total=sum(priors.values())\n",
        "        for key,value in priors.items():\n",
        "            priors[key]=value/total\n",
        "        self.priors=priors\n",
        "\n",
        "\n",
        "\n",
        "    def _set_cond_probs(self,training_data):\n",
        "\n",
        "        prob_dict={}\n",
        "        for(doc,label) in training_data:\n",
        "            classcond=prob_dict.get(label,{})\n",
        "            for word in doc.keys():\n",
        "                classcond[word]=classcond.get(word,0)+1\n",
        "\n",
        "            prob_dict[label]=classcond\n",
        "\n",
        "        for label, classcond in prob_dict.items():\n",
        "            for word in self.known:\n",
        "\n",
        "                classcond[word]=classcond.get(word,0)+1\n",
        "            prob_dict[label]=classcond\n",
        "\n",
        "        for label,dist in prob_dict.items():\n",
        "            total=sum(dist.values())\n",
        "            prob_dict[label]={key:value/total for (key,value) in dist.items()}\n",
        "\n",
        "        self.prob_dict=prob_dict\n",
        "\n",
        "\n",
        "    def train(self,training_data):\n",
        "        self._set_known_vocabulary(training_data)\n",
        "        self._set_priors(training_data)\n",
        "        self._set_cond_probs(training_data)\n",
        "\n",
        "    def classify(self,doc):\n",
        "\n",
        "        import random\n",
        "        import math\n",
        "        doc_probs={key:math.log(value) for (key,value) in self.priors.items()}\n",
        "        for word in doc.keys():\n",
        "            if word in self.known:\n",
        "                doc_probs={classlabel:sofar+math.log(self.prob_dict[classlabel].get(word,0)) for (classlabel,sofar) in doc_probs.items()}\n",
        "\n",
        "        highprob=max(doc_probs.values())\n",
        "        classes=[c for c in doc_probs.keys() if doc_probs[c]==highprob]\n",
        "        return random.choice(classes)"
      ]
    },
    {
      "cell_type": "code",
      "source": [
        "NB_class=NBClassifier()\n",
        "NB_class.train(norm_train_data)"
      ],
      "metadata": {
        "id": "Y7SwWb9EhRea"
      },
      "execution_count": null,
      "outputs": []
    },
    {
      "cell_type": "code",
      "source": [
        "docs_nb,labels_nb=zip(*norm_test_data)"
      ],
      "metadata": {
        "id": "MPd9MpGbhRGF"
      },
      "execution_count": null,
      "outputs": []
    },
    {
      "cell_type": "code",
      "source": [
        "cm_nb=ConfusionMatrix(NB_class.classify_many(docs),labels_nb,classes=(\"pos\",\"neg\"))\n",
        "precision_nb = cm_nb.precision()\n",
        "score_nb = class_evaluate(reviews_classifier,norm_test_data)\n",
        "recall_nb = cm_nb.recall()\n",
        "f1_score_nb = cm_nb.F1()"
      ],
      "metadata": {
        "id": "fHBt0Or0hQ55"
      },
      "execution_count": null,
      "outputs": []
    },
    {
      "cell_type": "code",
      "source": [
        "NB_results = [score_nb,precision_nb,recall_nb, f1_score_nb]\n",
        "WLC_results = [mark,recall, F1_score]"
      ],
      "metadata": {
        "id": "VCm6gOx7-iL3"
      },
      "execution_count": null,
      "outputs": []
    },
    {
      "cell_type": "code",
      "source": [
        "import matplotlib.pyplot as plt"
      ],
      "metadata": {
        "id": "omplWKGdAdr3"
      },
      "execution_count": null,
      "outputs": []
    },
    {
      "cell_type": "code",
      "source": [
        "import pandas as pd\n",
        "df=pd.DataFrame(NB_results,columns=['NB Results'], index = ['Accuracy', 'Precision', 'Recall', 'F1 Score'])\n",
        "display(df)"
      ],
      "metadata": {
        "colab": {
          "base_uri": "https://localhost:8080/",
          "height": 175
        },
        "id": "Xc4X8YS3hQy0",
        "outputId": "c57ae43e-bba4-4e20-a629-e927639b4149"
      },
      "execution_count": null,
      "outputs": [
        {
          "output_type": "display_data",
          "data": {
            "text/plain": [
              "           NB Results\n",
              "Accuracy     0.610000\n",
              "Precision    0.848057\n",
              "Recall       0.800000\n",
              "F1 Score     0.823328"
            ],
            "text/html": [
              "\n",
              "  <div id=\"df-8f7e6b60-a93c-4e87-a03c-21becd1e2407\" class=\"colab-df-container\">\n",
              "    <div>\n",
              "<style scoped>\n",
              "    .dataframe tbody tr th:only-of-type {\n",
              "        vertical-align: middle;\n",
              "    }\n",
              "\n",
              "    .dataframe tbody tr th {\n",
              "        vertical-align: top;\n",
              "    }\n",
              "\n",
              "    .dataframe thead th {\n",
              "        text-align: right;\n",
              "    }\n",
              "</style>\n",
              "<table border=\"1\" class=\"dataframe\">\n",
              "  <thead>\n",
              "    <tr style=\"text-align: right;\">\n",
              "      <th></th>\n",
              "      <th>NB Results</th>\n",
              "    </tr>\n",
              "  </thead>\n",
              "  <tbody>\n",
              "    <tr>\n",
              "      <th>Accuracy</th>\n",
              "      <td>0.610000</td>\n",
              "    </tr>\n",
              "    <tr>\n",
              "      <th>Precision</th>\n",
              "      <td>0.848057</td>\n",
              "    </tr>\n",
              "    <tr>\n",
              "      <th>Recall</th>\n",
              "      <td>0.800000</td>\n",
              "    </tr>\n",
              "    <tr>\n",
              "      <th>F1 Score</th>\n",
              "      <td>0.823328</td>\n",
              "    </tr>\n",
              "  </tbody>\n",
              "</table>\n",
              "</div>\n",
              "    <div class=\"colab-df-buttons\">\n",
              "\n",
              "  <div class=\"colab-df-container\">\n",
              "    <button class=\"colab-df-convert\" onclick=\"convertToInteractive('df-8f7e6b60-a93c-4e87-a03c-21becd1e2407')\"\n",
              "            title=\"Convert this dataframe to an interactive table.\"\n",
              "            style=\"display:none;\">\n",
              "\n",
              "  <svg xmlns=\"http://www.w3.org/2000/svg\" height=\"24px\" viewBox=\"0 -960 960 960\">\n",
              "    <path d=\"M120-120v-720h720v720H120Zm60-500h600v-160H180v160Zm220 220h160v-160H400v160Zm0 220h160v-160H400v160ZM180-400h160v-160H180v160Zm440 0h160v-160H620v160ZM180-180h160v-160H180v160Zm440 0h160v-160H620v160Z\"/>\n",
              "  </svg>\n",
              "    </button>\n",
              "\n",
              "  <style>\n",
              "    .colab-df-container {\n",
              "      display:flex;\n",
              "      gap: 12px;\n",
              "    }\n",
              "\n",
              "    .colab-df-convert {\n",
              "      background-color: #E8F0FE;\n",
              "      border: none;\n",
              "      border-radius: 50%;\n",
              "      cursor: pointer;\n",
              "      display: none;\n",
              "      fill: #1967D2;\n",
              "      height: 32px;\n",
              "      padding: 0 0 0 0;\n",
              "      width: 32px;\n",
              "    }\n",
              "\n",
              "    .colab-df-convert:hover {\n",
              "      background-color: #E2EBFA;\n",
              "      box-shadow: 0px 1px 2px rgba(60, 64, 67, 0.3), 0px 1px 3px 1px rgba(60, 64, 67, 0.15);\n",
              "      fill: #174EA6;\n",
              "    }\n",
              "\n",
              "    .colab-df-buttons div {\n",
              "      margin-bottom: 4px;\n",
              "    }\n",
              "\n",
              "    [theme=dark] .colab-df-convert {\n",
              "      background-color: #3B4455;\n",
              "      fill: #D2E3FC;\n",
              "    }\n",
              "\n",
              "    [theme=dark] .colab-df-convert:hover {\n",
              "      background-color: #434B5C;\n",
              "      box-shadow: 0px 1px 3px 1px rgba(0, 0, 0, 0.15);\n",
              "      filter: drop-shadow(0px 1px 2px rgba(0, 0, 0, 0.3));\n",
              "      fill: #FFFFFF;\n",
              "    }\n",
              "  </style>\n",
              "\n",
              "    <script>\n",
              "      const buttonEl =\n",
              "        document.querySelector('#df-8f7e6b60-a93c-4e87-a03c-21becd1e2407 button.colab-df-convert');\n",
              "      buttonEl.style.display =\n",
              "        google.colab.kernel.accessAllowed ? 'block' : 'none';\n",
              "\n",
              "      async function convertToInteractive(key) {\n",
              "        const element = document.querySelector('#df-8f7e6b60-a93c-4e87-a03c-21becd1e2407');\n",
              "        const dataTable =\n",
              "          await google.colab.kernel.invokeFunction('convertToInteractive',\n",
              "                                                    [key], {});\n",
              "        if (!dataTable) return;\n",
              "\n",
              "        const docLinkHtml = 'Like what you see? Visit the ' +\n",
              "          '<a target=\"_blank\" href=https://colab.research.google.com/notebooks/data_table.ipynb>data table notebook</a>'\n",
              "          + ' to learn more about interactive tables.';\n",
              "        element.innerHTML = '';\n",
              "        dataTable['output_type'] = 'display_data';\n",
              "        await google.colab.output.renderOutput(dataTable, element);\n",
              "        const docLink = document.createElement('div');\n",
              "        docLink.innerHTML = docLinkHtml;\n",
              "        element.appendChild(docLink);\n",
              "      }\n",
              "    </script>\n",
              "  </div>\n",
              "\n",
              "\n",
              "<div id=\"df-e948cd10-b200-4ef8-8432-bbd52d61313b\">\n",
              "  <button class=\"colab-df-quickchart\" onclick=\"quickchart('df-e948cd10-b200-4ef8-8432-bbd52d61313b')\"\n",
              "            title=\"Suggest charts\"\n",
              "            style=\"display:none;\">\n",
              "\n",
              "<svg xmlns=\"http://www.w3.org/2000/svg\" height=\"24px\"viewBox=\"0 0 24 24\"\n",
              "     width=\"24px\">\n",
              "    <g>\n",
              "        <path d=\"M19 3H5c-1.1 0-2 .9-2 2v14c0 1.1.9 2 2 2h14c1.1 0 2-.9 2-2V5c0-1.1-.9-2-2-2zM9 17H7v-7h2v7zm4 0h-2V7h2v10zm4 0h-2v-4h2v4z\"/>\n",
              "    </g>\n",
              "</svg>\n",
              "  </button>\n",
              "\n",
              "<style>\n",
              "  .colab-df-quickchart {\n",
              "      --bg-color: #E8F0FE;\n",
              "      --fill-color: #1967D2;\n",
              "      --hover-bg-color: #E2EBFA;\n",
              "      --hover-fill-color: #174EA6;\n",
              "      --disabled-fill-color: #AAA;\n",
              "      --disabled-bg-color: #DDD;\n",
              "  }\n",
              "\n",
              "  [theme=dark] .colab-df-quickchart {\n",
              "      --bg-color: #3B4455;\n",
              "      --fill-color: #D2E3FC;\n",
              "      --hover-bg-color: #434B5C;\n",
              "      --hover-fill-color: #FFFFFF;\n",
              "      --disabled-bg-color: #3B4455;\n",
              "      --disabled-fill-color: #666;\n",
              "  }\n",
              "\n",
              "  .colab-df-quickchart {\n",
              "    background-color: var(--bg-color);\n",
              "    border: none;\n",
              "    border-radius: 50%;\n",
              "    cursor: pointer;\n",
              "    display: none;\n",
              "    fill: var(--fill-color);\n",
              "    height: 32px;\n",
              "    padding: 0;\n",
              "    width: 32px;\n",
              "  }\n",
              "\n",
              "  .colab-df-quickchart:hover {\n",
              "    background-color: var(--hover-bg-color);\n",
              "    box-shadow: 0 1px 2px rgba(60, 64, 67, 0.3), 0 1px 3px 1px rgba(60, 64, 67, 0.15);\n",
              "    fill: var(--button-hover-fill-color);\n",
              "  }\n",
              "\n",
              "  .colab-df-quickchart-complete:disabled,\n",
              "  .colab-df-quickchart-complete:disabled:hover {\n",
              "    background-color: var(--disabled-bg-color);\n",
              "    fill: var(--disabled-fill-color);\n",
              "    box-shadow: none;\n",
              "  }\n",
              "\n",
              "  .colab-df-spinner {\n",
              "    border: 2px solid var(--fill-color);\n",
              "    border-color: transparent;\n",
              "    border-bottom-color: var(--fill-color);\n",
              "    animation:\n",
              "      spin 1s steps(1) infinite;\n",
              "  }\n",
              "\n",
              "  @keyframes spin {\n",
              "    0% {\n",
              "      border-color: transparent;\n",
              "      border-bottom-color: var(--fill-color);\n",
              "      border-left-color: var(--fill-color);\n",
              "    }\n",
              "    20% {\n",
              "      border-color: transparent;\n",
              "      border-left-color: var(--fill-color);\n",
              "      border-top-color: var(--fill-color);\n",
              "    }\n",
              "    30% {\n",
              "      border-color: transparent;\n",
              "      border-left-color: var(--fill-color);\n",
              "      border-top-color: var(--fill-color);\n",
              "      border-right-color: var(--fill-color);\n",
              "    }\n",
              "    40% {\n",
              "      border-color: transparent;\n",
              "      border-right-color: var(--fill-color);\n",
              "      border-top-color: var(--fill-color);\n",
              "    }\n",
              "    60% {\n",
              "      border-color: transparent;\n",
              "      border-right-color: var(--fill-color);\n",
              "    }\n",
              "    80% {\n",
              "      border-color: transparent;\n",
              "      border-right-color: var(--fill-color);\n",
              "      border-bottom-color: var(--fill-color);\n",
              "    }\n",
              "    90% {\n",
              "      border-color: transparent;\n",
              "      border-bottom-color: var(--fill-color);\n",
              "    }\n",
              "  }\n",
              "</style>\n",
              "\n",
              "  <script>\n",
              "    async function quickchart(key) {\n",
              "      const quickchartButtonEl =\n",
              "        document.querySelector('#' + key + ' button');\n",
              "      quickchartButtonEl.disabled = true;  // To prevent multiple clicks.\n",
              "      quickchartButtonEl.classList.add('colab-df-spinner');\n",
              "      try {\n",
              "        const charts = await google.colab.kernel.invokeFunction(\n",
              "            'suggestCharts', [key], {});\n",
              "      } catch (error) {\n",
              "        console.error('Error during call to suggestCharts:', error);\n",
              "      }\n",
              "      quickchartButtonEl.classList.remove('colab-df-spinner');\n",
              "      quickchartButtonEl.classList.add('colab-df-quickchart-complete');\n",
              "    }\n",
              "    (() => {\n",
              "      let quickchartButtonEl =\n",
              "        document.querySelector('#df-e948cd10-b200-4ef8-8432-bbd52d61313b button');\n",
              "      quickchartButtonEl.style.display =\n",
              "        google.colab.kernel.accessAllowed ? 'block' : 'none';\n",
              "    })();\n",
              "  </script>\n",
              "</div>\n",
              "    </div>\n",
              "  </div>\n"
            ]
          },
          "metadata": {}
        }
      ]
    },
    {
      "source": [
        "from matplotlib import pyplot as plt\n",
        "df['NB Results'].plot(kind='line', figsize=(8, 4), title='NB Results')\n",
        "plt.gca().spines[['top', 'right']].set_visible(False)"
      ],
      "cell_type": "code",
      "metadata": {
        "colab": {
          "base_uri": "https://localhost:8080/",
          "height": 391
        },
        "id": "_tnZknLmAg1m",
        "outputId": "e0915d59-c39d-443a-ec44-2acdf04276fa"
      },
      "execution_count": null,
      "outputs": [
        {
          "output_type": "display_data",
          "data": {
            "text/plain": [
              "<Figure size 800x400 with 1 Axes>"
            ],
            "image/png": "[encoded data removed]"
          },
          "metadata": {}
        }
      ]
    },
    {
      "cell_type": "code",
      "source": [
        "df.plot(kind='bar', legend=False, rot=0, color='red')\n",
        "plt.xlabel('Metrics')\n",
        "plt.ylabel('Values')\n",
        "plt.title('Naive Bayes Classifier Results')\n",
        "plt.show()"
      ],
      "metadata": {
        "colab": {
          "base_uri": "https://localhost:8080/",
          "height": 472
        },
        "id": "4PZVtS672a6B",
        "outputId": "8c32de23-0222-4865-ee70-14e750993ef5"
      },
      "execution_count": null,
      "outputs": [
        {
          "output_type": "display_data",
          "data": {
            "text/plain": [
              "<Figure size 640x480 with 1 Axes>"
            ],
            "image/png": "[encoded data removed]"
          },
          "metadata": {}
        }
      ]
    },
    {
      "cell_type": "code",
      "source": [
        "df_2=pd.DataFrame(WLC_results,columns=['Word List Classifier Results'], index = ['Accuracy', 'Recall', 'F1 Score'])\n",
        "display(df_2)"
      ],
      "metadata": {
        "colab": {
          "base_uri": "https://localhost:8080/",
          "height": 144
        },
        "id": "65OiGXWkAA8z",
        "outputId": "8c70954d-28f8-41db-e4a9-4f830629bfd8"
      },
      "execution_count": null,
      "outputs": [
        {
          "output_type": "display_data",
          "data": {
            "text/plain": [
              "          Word List Classifier Results\n",
              "Accuracy                      0.637857\n",
              "Recall                        0.760000\n",
              "F1 Score                      0.660870"
            ],
            "text/html": [
              "\n",
              "  <div id=\"df-71b7a12d-8e56-4569-9b35-b2faf027d567\" class=\"colab-df-container\">\n",
              "    <div>\n",
              "<style scoped>\n",
              "    .dataframe tbody tr th:only-of-type {\n",
              "        vertical-align: middle;\n",
              "    }\n",
              "\n",
              "    .dataframe tbody tr th {\n",
              "        vertical-align: top;\n",
              "    }\n",
              "\n",
              "    .dataframe thead th {\n",
              "        text-align: right;\n",
              "    }\n",
              "</style>\n",
              "<table border=\"1\" class=\"dataframe\">\n",
              "  <thead>\n",
              "    <tr style=\"text-align: right;\">\n",
              "      <th></th>\n",
              "      <th>Word List Classifier Results</th>\n",
              "    </tr>\n",
              "  </thead>\n",
              "  <tbody>\n",
              "    <tr>\n",
              "      <th>Accuracy</th>\n",
              "      <td>0.637857</td>\n",
              "    </tr>\n",
              "    <tr>\n",
              "      <th>Recall</th>\n",
              "      <td>0.760000</td>\n",
              "    </tr>\n",
              "    <tr>\n",
              "      <th>F1 Score</th>\n",
              "      <td>0.660870</td>\n",
              "    </tr>\n",
              "  </tbody>\n",
              "</table>\n",
              "</div>\n",
              "    <div class=\"colab-df-buttons\">\n",
              "\n",
              "  <div class=\"colab-df-container\">\n",
              "    <button class=\"colab-df-convert\" onclick=\"convertToInteractive('df-71b7a12d-8e56-4569-9b35-b2faf027d567')\"\n",
              "            title=\"Convert this dataframe to an interactive table.\"\n",
              "            style=\"display:none;\">\n",
              "\n",
              "  <svg xmlns=\"http://www.w3.org/2000/svg\" height=\"24px\" viewBox=\"0 -960 960 960\">\n",
              "    <path d=\"M120-120v-720h720v720H120Zm60-500h600v-160H180v160Zm220 220h160v-160H400v160Zm0 220h160v-160H400v160ZM180-400h160v-160H180v160Zm440 0h160v-160H620v160ZM180-180h160v-160H180v160Zm440 0h160v-160H620v160Z\"/>\n",
              "  </svg>\n",
              "    </button>\n",
              "\n",
              "  <style>\n",
              "    .colab-df-container {\n",
              "      display:flex;\n",
              "      gap: 12px;\n",
              "    }\n",
              "\n",
              "    .colab-df-convert {\n",
              "      background-color: #E8F0FE;\n",
              "      border: none;\n",
              "      border-radius: 50%;\n",
              "      cursor: pointer;\n",
              "      display: none;\n",
              "      fill: #1967D2;\n",
              "      height: 32px;\n",
              "      padding: 0 0 0 0;\n",
              "      width: 32px;\n",
              "    }\n",
              "\n",
              "    .colab-df-convert:hover {\n",
              "      background-color: #E2EBFA;\n",
              "      box-shadow: 0px 1px 2px rgba(60, 64, 67, 0.3), 0px 1px 3px 1px rgba(60, 64, 67, 0.15);\n",
              "      fill: #174EA6;\n",
              "    }\n",
              "\n",
              "    .colab-df-buttons div {\n",
              "      margin-bottom: 4px;\n",
              "    }\n",
              "\n",
              "    [theme=dark] .colab-df-convert {\n",
              "      background-color: #3B4455;\n",
              "      fill: #D2E3FC;\n",
              "    }\n",
              "\n",
              "    [theme=dark] .colab-df-convert:hover {\n",
              "      background-color: #434B5C;\n",
              "      box-shadow: 0px 1px 3px 1px rgba(0, 0, 0, 0.15);\n",
              "      filter: drop-shadow(0px 1px 2px rgba(0, 0, 0, 0.3));\n",
              "      fill: #FFFFFF;\n",
              "    }\n",
              "  </style>\n",
              "\n",
              "    <script>\n",
              "      const buttonEl =\n",
              "        document.querySelector('#df-71b7a12d-8e56-4569-9b35-b2faf027d567 button.colab-df-convert');\n",
              "      buttonEl.style.display =\n",
              "        google.colab.kernel.accessAllowed ? 'block' : 'none';\n",
              "\n",
              "      async function convertToInteractive(key) {\n",
              "        const element = document.querySelector('#df-71b7a12d-8e56-4569-9b35-b2faf027d567');\n",
              "        const dataTable =\n",
              "          await google.colab.kernel.invokeFunction('convertToInteractive',\n",
              "                                                    [key], {});\n",
              "        if (!dataTable) return;\n",
              "\n",
              "        const docLinkHtml = 'Like what you see? Visit the ' +\n",
              "          '<a target=\"_blank\" href=https://colab.research.google.com/notebooks/data_table.ipynb>data table notebook</a>'\n",
              "          + ' to learn more about interactive tables.';\n",
              "        element.innerHTML = '';\n",
              "        dataTable['output_type'] = 'display_data';\n",
              "        await google.colab.output.renderOutput(dataTable, element);\n",
              "        const docLink = document.createElement('div');\n",
              "        docLink.innerHTML = docLinkHtml;\n",
              "        element.appendChild(docLink);\n",
              "      }\n",
              "    </script>\n",
              "  </div>\n",
              "\n",
              "\n",
              "<div id=\"df-51f59ff2-1959-44fe-af90-6fa73c771871\">\n",
              "  <button class=\"colab-df-quickchart\" onclick=\"quickchart('df-51f59ff2-1959-44fe-af90-6fa73c771871')\"\n",
              "            title=\"Suggest charts\"\n",
              "            style=\"display:none;\">\n",
              "\n",
              "<svg xmlns=\"http://www.w3.org/2000/svg\" height=\"24px\"viewBox=\"0 0 24 24\"\n",
              "     width=\"24px\">\n",
              "    <g>\n",
              "        <path d=\"M19 3H5c-1.1 0-2 .9-2 2v14c0 1.1.9 2 2 2h14c1.1 0 2-.9 2-2V5c0-1.1-.9-2-2-2zM9 17H7v-7h2v7zm4 0h-2V7h2v10zm4 0h-2v-4h2v4z\"/>\n",
              "    </g>\n",
              "</svg>\n",
              "  </button>\n",
              "\n",
              "<style>\n",
              "  .colab-df-quickchart {\n",
              "      --bg-color: #E8F0FE;\n",
              "      --fill-color: #1967D2;\n",
              "      --hover-bg-color: #E2EBFA;\n",
              "      --hover-fill-color: #174EA6;\n",
              "      --disabled-fill-color: #AAA;\n",
              "      --disabled-bg-color: #DDD;\n",
              "  }\n",
              "\n",
              "  [theme=dark] .colab-df-quickchart {\n",
              "      --bg-color: #3B4455;\n",
              "      --fill-color: #D2E3FC;\n",
              "      --hover-bg-color: #434B5C;\n",
              "      --hover-fill-color: #FFFFFF;\n",
              "      --disabled-bg-color: #3B4455;\n",
              "      --disabled-fill-color: #666;\n",
              "  }\n",
              "\n",
              "  .colab-df-quickchart {\n",
              "    background-color: var(--bg-color);\n",
              "    border: none;\n",
              "    border-radius: 50%;\n",
              "    cursor: pointer;\n",
              "    display: none;\n",
              "    fill: var(--fill-color);\n",
              "    height: 32px;\n",
              "    padding: 0;\n",
              "    width: 32px;\n",
              "  }\n",
              "\n",
              "  .colab-df-quickchart:hover {\n",
              "    background-color: var(--hover-bg-color);\n",
              "    box-shadow: 0 1px 2px rgba(60, 64, 67, 0.3), 0 1px 3px 1px rgba(60, 64, 67, 0.15);\n",
              "    fill: var(--button-hover-fill-color);\n",
              "  }\n",
              "\n",
              "  .colab-df-quickchart-complete:disabled,\n",
              "  .colab-df-quickchart-complete:disabled:hover {\n",
              "    background-color: var(--disabled-bg-color);\n",
              "    fill: var(--disabled-fill-color);\n",
              "    box-shadow: none;\n",
              "  }\n",
              "\n",
              "  .colab-df-spinner {\n",
              "    border: 2px solid var(--fill-color);\n",
              "    border-color: transparent;\n",
              "    border-bottom-color: var(--fill-color);\n",
              "    animation:\n",
              "      spin 1s steps(1) infinite;\n",
              "  }\n",
              "\n",
              "  @keyframes spin {\n",
              "    0% {\n",
              "      border-color: transparent;\n",
              "      border-bottom-color: var(--fill-color);\n",
              "      border-left-color: var(--fill-color);\n",
              "    }\n",
              "    20% {\n",
              "      border-color: transparent;\n",
              "      border-left-color: var(--fill-color);\n",
              "      border-top-color: var(--fill-color);\n",
              "    }\n",
              "    30% {\n",
              "      border-color: transparent;\n",
              "      border-left-color: var(--fill-color);\n",
              "      border-top-color: var(--fill-color);\n",
              "      border-right-color: var(--fill-color);\n",
              "    }\n",
              "    40% {\n",
              "      border-color: transparent;\n",
              "      border-right-color: var(--fill-color);\n",
              "      border-top-color: var(--fill-color);\n",
              "    }\n",
              "    60% {\n",
              "      border-color: transparent;\n",
              "      border-right-color: var(--fill-color);\n",
              "    }\n",
              "    80% {\n",
              "      border-color: transparent;\n",
              "      border-right-color: var(--fill-color);\n",
              "      border-bottom-color: var(--fill-color);\n",
              "    }\n",
              "    90% {\n",
              "      border-color: transparent;\n",
              "      border-bottom-color: var(--fill-color);\n",
              "    }\n",
              "  }\n",
              "</style>\n",
              "\n",
              "  <script>\n",
              "    async function quickchart(key) {\n",
              "      const quickchartButtonEl =\n",
              "        document.querySelector('#' + key + ' button');\n",
              "      quickchartButtonEl.disabled = true;  // To prevent multiple clicks.\n",
              "      quickchartButtonEl.classList.add('colab-df-spinner');\n",
              "      try {\n",
              "        const charts = await google.colab.kernel.invokeFunction(\n",
              "            'suggestCharts', [key], {});\n",
              "      } catch (error) {\n",
              "        console.error('Error during call to suggestCharts:', error);\n",
              "      }\n",
              "      quickchartButtonEl.classList.remove('colab-df-spinner');\n",
              "      quickchartButtonEl.classList.add('colab-df-quickchart-complete');\n",
              "    }\n",
              "    (() => {\n",
              "      let quickchartButtonEl =\n",
              "        document.querySelector('#df-51f59ff2-1959-44fe-af90-6fa73c771871 button');\n",
              "      quickchartButtonEl.style.display =\n",
              "        google.colab.kernel.accessAllowed ? 'block' : 'none';\n",
              "    })();\n",
              "  </script>\n",
              "</div>\n",
              "    </div>\n",
              "  </div>\n"
            ]
          },
          "metadata": {}
        }
      ]
    },
    {
      "source": [
        "from matplotlib import pyplot as plt\n",
        "_df_1['Word List Classifier Results'].plot(kind='line', figsize=(8, 4), title='Word List Classifier Results')\n",
        "plt.gca().spines[['top', 'right']].set_visible(False)"
      ],
      "cell_type": "code",
      "metadata": {
        "colab": {
          "base_uri": "https://localhost:8080/",
          "height": 391
        },
        "id": "msv9xsa9AWig",
        "outputId": "f0b46212-4307-4fb3-df10-22505e412af3"
      },
      "execution_count": null,
      "outputs": [
        {
          "output_type": "display_data",
          "data": {
            "text/plain": [
              "<Figure size 800x400 with 1 Axes>"
            ],
            "image/png": "[encoded data removed]"
          },
          "metadata": {}
        }
      ]
    },
    {
      "cell_type": "code",
      "source": [
        "df_2 = pd.DataFrame(WLC_results, columns=['Word List Classifier Results'], index=['Accuracy', 'Recall', 'F1 Score'])\n",
        "df_2.plot(kind='bar', legend=False, rot=0, color='skyblue', figsize=(8, 6))\n",
        "plt.xlabel('Metrics')\n",
        "plt.ylabel('Score')\n",
        "plt.title('Word List Classifier')\n",
        "plt.show()\n"
      ],
      "metadata": {
        "colab": {
          "base_uri": "https://localhost:8080/",
          "height": 564
        },
        "id": "Juc0joUZ3Eit",
        "outputId": "e74b286a-fe48-4bb4-a4ec-1f859edbd156"
      },
      "execution_count": null,
      "outputs": [
        {
          "output_type": "display_data",
          "data": {
            "text/plain": [
              "<Figure size 800x600 with 1 Axes>"
            ],
            "image/png": "[encoded data removed]"
          },
          "metadata": {}
        }
      ]
    },
    {
      "cell_type": "markdown",
      "source": [
        "**BRIEFING**\n",
        "\n",
        "Based on the results, its evident that the Word List Classifier suprasses Naive Bayes in terms of accuracy as well as recall.\n",
        "\n",
        "Bayes demonstrates superior accuracy in predicting the target variable. It outperforms the Word List Classifier in precision and F1 score.\n",
        "It Appears to be more preferable option.\n",
        "\n",
        "But it also suggests that the World List Classifier excels in overall correctness and proficiently categorizing words of the target class."
      ],
      "metadata": {
        "id": "XMVD1vTONHEQ"
      }
    },
    {
      "cell_type": "markdown",
      "metadata": {
        "id": "bytPkuHf2XUO"
      },
      "source": [
        "\n",
        "\n",
        "---\n",
        "\n",
        "\n",
        "\n",
        "---\n",
        "\n"
      ]
    }
  ],
  "metadata": {
    "colab": {
      "provenance": [],
      "include_colab_link": true
    },
    "kernelspec": {
      "display_name": "Python 3",
      "language": "python",
      "name": "python3"
    },
    "language_info": {
      "codemirror_mode": {
        "name": "ipython",
        "version": 3
      },
      "file_extension": ".py",
      "mimetype": "text/x-python",
      "name": "python",
      "nbconvert_exporter": "python",
      "pygments_lexer": "ipython3",
      "version": "3.7.4"
    }
  },
  "nbformat": 4,
  "nbformat_minor": 0
}